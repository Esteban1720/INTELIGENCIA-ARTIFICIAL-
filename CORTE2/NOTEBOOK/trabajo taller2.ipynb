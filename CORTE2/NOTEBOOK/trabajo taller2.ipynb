{
  "cells": [
    {
      "cell_type": "markdown",
      "metadata": {
        "id": "1f8f3f9f"
      },
      "source": [
        "Jhan Carlos Zamora Nuñez\n\n",   
        "Taylor Antonio Quiñones Caicedo\n\n",  
        "Gilary Daniela Vargas Hurtado\n\n",    
        "Esteban David Ruiz Caicedo\n\n",    
        "## Correlación Positiva Perfecta (r = 1)\n",
        "\n",
        "Una correlación positiva perfecta significa que a medida que una variable aumenta, la otra variable aumenta proporcionalmente en una relación perfectamente lineal. En este caso, todos los puntos de datos se ubicarían exactamente en una línea recta con una pendiente positiva.\n",
        "\n",
        "**Ejemplo dentro del contexto de este notebook:**\n",
        "\n",
        "Si cada hora adicional de estudio resultara en *exactamente* un aumento de 4 puntos en la puntuación del examen para cada estudiante, sin variación, tendríamos una correlación positiva perfecta entre \"Horas_de_estudio\" y \"Puntaje_en_examen\". Esto rara vez se observa con datos del mundo real, especialmente en ciencias sociales o estudios de comportamiento, ya que siempre hay otros factores que influyen en el resultado."
      ]
    },
    {
      "cell_type": "markdown",
      "metadata": {
        "id": "be82f219"
      },
      "source": [
        "## Alta Correlación Positiva (r cercano a 1)\n",
        "\n",
        "Una alta correlación positiva significa que a medida que una variable aumenta, la otra variable tiende a aumentar, pero hay cierta variación o dispersión en los puntos de datos. La relación es fuerte y positiva, pero no perfectamente lineal.\n",
        "\n",
        "**Ejemplo dentro del contexto de este notebook:**\n",
        "\n",
        "En nuestro conjunto de datos actual, tenemos una alta correlación positiva (r = {{correlacion.loc['Horas_de_estudio', 'Puntaje_en_examen']:.2f}}). Esto significa que, en general, los estudiantes que estudian más tienden a obtener puntuaciones más altas en los exámenes, pero hay otros factores que influyen en la puntuación, lo que lleva a cierta variabilidad alrededor de la línea de regresión. Los puntos de datos se agrupan alrededor de la línea, lo que indica una fuerte relación positiva."
      ]
    },
    {
      "cell_type": "markdown",
      "metadata": {
        "id": "3389be99"
      },
      "source": [
        "# 📊 1️⃣ Generación de datos y contexto del problema\n",
        "\n",
        "Vamos a simular un estudio sobre el rendimiento académico de estudiantes en función de las horas de estudio semanales."
      ]
    },
    {
      "cell_type": "code",
      "metadata": {
        "colab": {
          "base_uri": "https://localhost:8080/",
          "height": 206
        },
        "id": "610b2a32",
        "outputId": "27c46110-fddd-4d7e-b383-95b623e07232"
      },
      "source": [
        "import numpy as np\n",
        "import pandas as pd\n",
        "import matplotlib.pyplot as plt\n",
        "from scipy import stats\n",
        "import math\n",
        "from sklearn.linear_model import LinearRegression\n",
        "\n",
        "# Semilla para reproducibilidad\n",
        "np.random.seed(42)\n",
        "\n",
        "# Generación de datos simulados\n",
        "horas_estudio = np.random.normal(10, 3, 100)      # media 10 horas, desviación 3\n",
        "puntaje_examen = 40 + horas_estudio * 4 + np.random.normal(0, 5, 100)  # relación con ruido\n",
        "\n",
        "df = pd.DataFrame({\n",
        "    'Horas_de_estudio': horas_estudio,\n",
        "    'Puntaje_en_examen': puntaje_examen\n",
        "})\n",
        "\n",
        "df.head()"
      ],
      "execution_count": 2,
      "outputs": [
        {
          "output_type": "execute_result",
          "data": {
            "text/plain": [
              "   Horas_de_estudio  Puntaje_en_examen\n",
              "0         11.490142          78.883716\n",
              "1          9.585207          76.237602\n",
              "2         11.943066          86.058690\n",
              "3         14.569090          94.264972\n",
              "4          9.297540          76.383731"
            ],
            "text/html": [
              "\n",
              "  <div id=\"df-9cd36066-b29b-46fd-9433-b16a2a3fd0e7\" class=\"colab-df-container\">\n",
              "    <div>\n",
              "<style scoped>\n",
              "    .dataframe tbody tr th:only-of-type {\n",
              "        vertical-align: middle;\n",
              "    }\n",
              "\n",
              "    .dataframe tbody tr th {\n",
              "        vertical-align: top;\n",
              "    }\n",
              "\n",
              "    .dataframe thead th {\n",
              "        text-align: right;\n",
              "    }\n",
              "</style>\n",
              "<table border=\"1\" class=\"dataframe\">\n",
              "  <thead>\n",
              "    <tr style=\"text-align: right;\">\n",
              "      <th></th>\n",
              "      <th>Horas_de_estudio</th>\n",
              "      <th>Puntaje_en_examen</th>\n",
              "    </tr>\n",
              "  </thead>\n",
              "  <tbody>\n",
              "    <tr>\n",
              "      <th>0</th>\n",
              "      <td>11.490142</td>\n",
              "      <td>78.883716</td>\n",
              "    </tr>\n",
              "    <tr>\n",
              "      <th>1</th>\n",
              "      <td>9.585207</td>\n",
              "      <td>76.237602</td>\n",
              "    </tr>\n",
              "    <tr>\n",
              "      <th>2</th>\n",
              "      <td>11.943066</td>\n",
              "      <td>86.058690</td>\n",
              "    </tr>\n",
              "    <tr>\n",
              "      <th>3</th>\n",
              "      <td>14.569090</td>\n",
              "      <td>94.264972</td>\n",
              "    </tr>\n",
              "    <tr>\n",
              "      <th>4</th>\n",
              "      <td>9.297540</td>\n",
              "      <td>76.383731</td>\n",
              "    </tr>\n",
              "  </tbody>\n",
              "</table>\n",
              "</div>\n",
              "    <div class=\"colab-df-buttons\">\n",
              "\n",
              "  <div class=\"colab-df-container\">\n",
              "    <button class=\"colab-df-convert\" onclick=\"convertToInteractive('df-9cd36066-b29b-46fd-9433-b16a2a3fd0e7')\"\n",
              "            title=\"Convert this dataframe to an interactive table.\"\n",
              "            style=\"display:none;\">\n",
              "\n",
              "  <svg xmlns=\"http://www.w3.org/2000/svg\" height=\"24px\" viewBox=\"0 -960 960 960\">\n",
              "    <path d=\"M120-120v-720h720v720H120Zm60-500h600v-160H180v160Zm220 220h160v-160H400v160Zm0 220h160v-160H400v160ZM180-400h160v-160H180v160Zm440 0h160v-160H620v160ZM180-180h160v-160H180v160Zm440 0h160v-160H620v160Z\"/>\n",
              "  </svg>\n",
              "    </button>\n",
              "\n",
              "  <style>\n",
              "    .colab-df-container {\n",
              "      display:flex;\n",
              "      gap: 12px;\n",
              "    }\n",
              "\n",
              "    .colab-df-convert {\n",
              "      background-color: #E8F0FE;\n",
              "      border: none;\n",
              "      border-radius: 50%;\n",
              "      cursor: pointer;\n",
              "      display: none;\n",
              "      fill: #1967D2;\n",
              "      height: 32px;\n",
              "      padding: 0 0 0 0;\n",
              "      width: 32px;\n",
              "    }\n",
              "\n",
              "    .colab-df-convert:hover {\n",
              "      background-color: #E2EBFA;\n",
              "      box-shadow: 0px 1px 2px rgba(60, 64, 67, 0.3), 0px 1px 3px 1px rgba(60, 64, 67, 0.15);\n",
              "      fill: #174EA6;\n",
              "    }\n",
              "\n",
              "    .colab-df-buttons div {\n",
              "      margin-bottom: 4px;\n",
              "    }\n",
              "\n",
              "    [theme=dark] .colab-df-convert {\n",
              "      background-color: #3B4455;\n",
              "      fill: #D2E3FC;\n",
              "    }\n",
              "\n",
              "    [theme=dark] .colab-df-convert:hover {\n",
              "      background-color: #434B5C;\n",
              "      box-shadow: 0px 1px 3px 1px rgba(0, 0, 0, 0.15);\n",
              "      filter: drop-shadow(0px 1px 2px rgba(0, 0, 0, 0.3));\n",
              "      fill: #FFFFFF;\n",
              "    }\n",
              "  </style>\n",
              "\n",
              "    <script>\n",
              "      const buttonEl =\n",
              "        document.querySelector('#df-9cd36066-b29b-46fd-9433-b16a2a3fd0e7 button.colab-df-convert');\n",
              "      buttonEl.style.display =\n",
              "        google.colab.kernel.accessAllowed ? 'block' : 'none';\n",
              "\n",
              "      async function convertToInteractive(key) {\n",
              "        const element = document.querySelector('#df-9cd36066-b29b-46fd-9433-b16a2a3fd0e7');\n",
              "        const dataTable =\n",
              "          await google.colab.kernel.invokeFunction('convertToInteractive',\n",
              "                                                    [key], {});\n",
              "        if (!dataTable) return;\n",
              "\n",
              "        const docLinkHtml = 'Like what you see? Visit the ' +\n",
              "          '<a target=\"_blank\" href=https://colab.research.google.com/notebooks/data_table.ipynb>data table notebook</a>'\n",
              "          + ' to learn more about interactive tables.';\n",
              "        element.innerHTML = '';\n",
              "        dataTable['output_type'] = 'display_data';\n",
              "        await google.colab.output.renderOutput(dataTable, element);\n",
              "        const docLink = document.createElement('div');\n",
              "        docLink.innerHTML = docLinkHtml;\n",
              "        element.appendChild(docLink);\n",
              "      }\n",
              "    </script>\n",
              "  </div>\n",
              "\n",
              "\n",
              "    <div id=\"df-7a2fd21b-74d0-4e4b-925b-f7da0bdab1c2\">\n",
              "      <button class=\"colab-df-quickchart\" onclick=\"quickchart('df-7a2fd21b-74d0-4e4b-925b-f7da0bdab1c2')\"\n",
              "                title=\"Suggest charts\"\n",
              "                style=\"display:none;\">\n",
              "\n",
              "<svg xmlns=\"http://www.w3.org/2000/svg\" height=\"24px\"viewBox=\"0 0 24 24\"\n",
              "     width=\"24px\">\n",
              "    <g>\n",
              "        <path d=\"M19 3H5c-1.1 0-2 .9-2 2v14c0 1.1.9 2 2 2h14c1.1 0 2-.9 2-2V5c0-1.1-.9-2-2-2zM9 17H7v-7h2v7zm4 0h-2V7h2v10zm4 0h-2v-4h2v4z\"/>\n",
              "    </g>\n",
              "</svg>\n",
              "      </button>\n",
              "\n",
              "<style>\n",
              "  .colab-df-quickchart {\n",
              "      --bg-color: #E8F0FE;\n",
              "      --fill-color: #1967D2;\n",
              "      --hover-bg-color: #E2EBFA;\n",
              "      --hover-fill-color: #174EA6;\n",
              "      --disabled-fill-color: #AAA;\n",
              "      --disabled-bg-color: #DDD;\n",
              "  }\n",
              "\n",
              "  [theme=dark] .colab-df-quickchart {\n",
              "      --bg-color: #3B4455;\n",
              "      --fill-color: #D2E3FC;\n",
              "      --hover-bg-color: #434B5C;\n",
              "      --hover-fill-color: #FFFFFF;\n",
              "      --disabled-bg-color: #3B4455;\n",
              "      --disabled-fill-color: #666;\n",
              "  }\n",
              "\n",
              "  .colab-df-quickchart {\n",
              "    background-color: var(--bg-color);\n",
              "    border: none;\n",
              "    border-radius: 50%;\n",
              "    cursor: pointer;\n",
              "    display: none;\n",
              "    fill: var(--fill-color);\n",
              "    height: 32px;\n",
              "    padding: 0;\n",
              "    width: 32px;\n",
              "  }\n",
              "\n",
              "  .colab-df-quickchart:hover {\n",
              "    background-color: var(--hover-bg-color);\n",
              "    box-shadow: 0 1px 2px rgba(60, 64, 67, 0.3), 0 1px 3px 1px rgba(60, 64, 67, 0.15);\n",
              "    fill: var(--button-hover-fill-color);\n",
              "  }\n",
              "\n",
              "  .colab-df-quickchart-complete:disabled,\n",
              "  .colab-df-quickchart-complete:disabled:hover {\n",
              "    background-color: var(--disabled-bg-color);\n",
              "    fill: var(--disabled-fill-color);\n",
              "    box-shadow: none;\n",
              "  }\n",
              "\n",
              "  .colab-df-spinner {\n",
              "    border: 2px solid var(--fill-color);\n",
              "    border-color: transparent;\n",
              "    border-bottom-color: var(--fill-color);\n",
              "    animation:\n",
              "      spin 1s steps(1) infinite;\n",
              "  }\n",
              "\n",
              "  @keyframes spin {\n",
              "    0% {\n",
              "      border-color: transparent;\n",
              "      border-bottom-color: var(--fill-color);\n",
              "      border-left-color: var(--fill-color);\n",
              "    }\n",
              "    20% {\n",
              "      border-color: transparent;\n",
              "      border-left-color: var(--fill-color);\n",
              "      border-top-color: var(--fill-color);\n",
              "    }\n",
              "    30% {\n",
              "      border-color: transparent;\n",
              "      border-left-color: var(--fill-color);\n",
              "      border-top-color: var(--fill-color);\n",
              "      border-right-color: var(--fill-color);\n",
              "    }\n",
              "    40% {\n",
              "      border-color: transparent;\n",
              "      border-right-color: var(--fill-color);\n",
              "      border-top-color: var(--fill-color);\n",
              "    }\n",
              "    60% {\n",
              "      border-color: transparent;\n",
              "      border-right-color: var(--fill-color);\n",
              "    }\n",
              "    80% {\n",
              "      border-color: transparent;\n",
              "      border-right-color: var(--fill-color);\n",
              "      border-bottom-color: var(--fill-color);\n",
              "    }\n",
              "    90% {\n",
              "      border-color: transparent;\n",
              "      border-bottom-color: var(--fill-color);\n",
              "    }\n",
              "  }\n",
              "</style>\n",
              "\n",
              "      <script>\n",
              "        async function quickchart(key) {\n",
              "          const quickchartButtonEl =\n",
              "            document.querySelector('#' + key + ' button');\n",
              "          quickchartButtonEl.disabled = true;  // To prevent multiple clicks.\n",
              "          quickchartButtonEl.classList.add('colab-df-spinner');\n",
              "          try {\n",
              "            const charts = await google.colab.kernel.invokeFunction(\n",
              "                'suggestCharts', [key], {});\n",
              "          } catch (error) {\n",
              "            console.error('Error during call to suggestCharts:', error);\n",
              "          }\n",
              "          quickchartButtonEl.classList.remove('colab-df-spinner');\n",
              "          quickchartButtonEl.classList.add('colab-df-quickchart-complete');\n",
              "        }\n",
              "        (() => {\n",
              "          let quickchartButtonEl =\n",
              "            document.querySelector('#df-7a2fd21b-74d0-4e4b-925b-f7da0bdab1c2 button');\n",
              "          quickchartButtonEl.style.display =\n",
              "            google.colab.kernel.accessAllowed ? 'block' : 'none';\n",
              "        })();\n",
              "      </script>\n",
              "    </div>\n",
              "\n",
              "    </div>\n",
              "  </div>\n"
            ],
            "application/vnd.google.colaboratory.intrinsic+json": {
              "type": "dataframe",
              "variable_name": "df",
              "summary": "{\n  \"name\": \"df\",\n  \"rows\": 100,\n  \"fields\": [\n    {\n      \"column\": \"Horas_de_estudio\",\n      \"properties\": {\n        \"dtype\": \"number\",\n        \"std\": 2.724505284023402,\n        \"min\": 2.1407646877307673,\n        \"max\": 15.556834553526812,\n        \"num_unique_values\": 100,\n        \"samples\": [\n          8.445189345179058,\n          11.835028866522604,\n          11.084186816525241\n        ],\n        \"semantic_type\": \"\",\n        \"description\": \"\"\n      }\n    },\n    {\n      \"column\": \"Puntaje_en_examen\",\n      \"properties\": {\n        \"dtype\": \"number\",\n        \"std\": 11.283859001627116,\n        \"min\": 49.946512747573166,\n        \"max\": 108.38148329214135,\n        \"num_unique_values\": 100,\n        \"samples\": [\n          76.19311945693217,\n          88.50138395189545,\n          79.88917511797334\n        ],\n        \"semantic_type\": \"\",\n        \"description\": \"\"\n      }\n    }\n  ]\n}"
            }
          },
          "metadata": {},
          "execution_count": 2
        }
      ]
    },
    {
      "cell_type": "markdown",
      "metadata": {
        "id": "f542c27e"
      },
      "source": [
        "## Correlación positiva perfecta (r = 1)\n",
        "\n",
        "Una correlación positiva perfecta significa que, a medida que una variable aumenta, la otra aumenta de manera proporcional en una relación perfectamente lineal. En este caso, todos los puntos de los datos se ubican exactamente sobre una línea recta con pendiente positiva.\n",
        "\n",
        "**Ejemplo dentro del contexto de este cuaderno:**\n",
        "\n",
        "Si cada hora adicional de estudio resultara *exactamente* en un aumento de 4 puntos en el puntaje del examen para cada estudiante, sin ninguna variación, entonces tendríamos una correlación positiva perfecta entre \"Horas_de_estudio\" y \"Puntaje_en_examen\". Esto rara vez ocurre en datos del mundo real, especialmente en ciencias sociales o estudios de comportamiento, ya que siempre existen otros factores que influyen en el resultado.\n"
      ]
    },
    {
      "cell_type": "markdown",
      "metadata": {
        "id": "a7918c23"
      },
      "source": [
        "## Alta correlación positiva (r cercano a 1)\n",
        "\n",
        "Una alta correlación positiva significa que, a medida que una variable aumenta, la otra tiende también a aumentar, pero existe cierta variación o dispersión en los puntos de los datos. La relación es fuerte y positiva, pero no perfectamente lineal.\n",
        "\n",
        "**Ejemplo dentro del contexto de este cuaderno:**\n",
        "\n",
        "En nuestro conjunto de datos actual, tenemos una alta correlación positiva (r = {{correlacion.loc['Horas_de_estudio', 'Puntaje_en_examen']:.2f}}). Esto significa que, en general, los estudiantes que estudian más tienden a obtener puntajes más altos en los exámenes, pero existen otros factores que influyen en el puntaje, lo que genera algo de variabilidad alrededor de la línea de regresión. Los puntos de los datos están agrupados alrededor de la línea, lo que indica una relación positiva fuerte.\n"
      ]
    },
    {
      "cell_type": "code",
      "metadata": {
        "colab": {
          "base_uri": "https://localhost:8080/",
          "height": 581
        },
        "id": "23cf61da",
        "outputId": "15e336f4-92a6-48fb-e537-e747c489a5b8"
      },
      "source": [
        "# To demonstrate a hypothetical perfect positive correlation, let's create a new column\n",
        "df['Perfect_Puntaje'] = 40 + df['Horas_de_estudio'] * 4\n",
        "\n",
        "# Calculate the correlation between 'Horas_de_estudio' and 'Perfect_Puntaje'\n",
        "perfect_corr = df['Horas_de_estudio'].corr(df['Perfect_Puntaje'])\n",
        "\n",
        "print(f\"Correlation with hypothetical perfect data: {perfect_corr:.2f}\")\n",
        "\n",
        "# Visualize the hypothetical perfect positive correlation\n",
        "plt.figure(figsize=(8,6))\n",
        "plt.scatter(df['Horas_de_estudio'], df['Perfect_Puntaje'], color='green', label='Perfect Positive Correlation')\n",
        "plt.xlabel('Horas de estudio semanales')\n",
        "plt.ylabel('Puntaje en el examen (Perfect)')\n",
        "plt.title('Hypothetical Perfect Positive Correlation')\n",
        "plt.legend()\n",
        "plt.grid(True)\n",
        "plt.show()"
      ],
      "execution_count": 3,
      "outputs": [
        {
          "output_type": "stream",
          "name": "stdout",
          "text": [
            "Correlation with hypothetical perfect data: 1.00\n"
          ]
        },
        {
          "output_type": "display_data",
          "data": {
            "text/plain": [
              "<Figure size 800x600 with 1 Axes>"
            ],
            "image/png": "[encoded data removed]"
          },
          "metadata": {}
        }
      ]
    },
    {
      "cell_type": "markdown",
      "metadata": {
        "id": "81dc61b0"
      },
      "source": [
        "## 🧾 Explicación\n",
        "\n",
        "- Generamos una muestra de 100 estudiantes.\n",
        "- La variable **Horas_de_estudio** sigue una distribución normal (media = 10, desviación estándar = 3).\n",
        "- El **Puntaje_en_examen** depende de las horas de estudio con un poco de variación aleatoria (ruido).\n",
        "- Esto representa una muestra, no toda la población estudiantil."
      ]
    },
    {
      "cell_type": "markdown",
      "metadata": {
        "id": "7497606f"
      },
      "source": [
        "---\n",
        "\n",
        "## 📈 **2️⃣ Estimación e Intervalo de Confianza**\n",
        "\n",
        "Queremos estimar el promedio poblacional del puntaje con un **nivel de confianza del 95%**."
      ]
    },
    {
      "cell_type": "code",
      "metadata": {
        "colab": {
          "base_uri": "https://localhost:8080/"
        },
        "id": "1041d886",
        "outputId": "417af89b-3d7c-4b65-f806-bfaeb09deaea"
      },
      "source": [
        "media = np.mean(puntaje_examen)\n",
        "desv = np.std(puntaje_examen, ddof=1)\n",
        "n = len(puntaje_examen)\n",
        "confianza = 0.95\n",
        "error = stats.t.ppf((1 + confianza) / 2, n - 1) * (desv / np.sqrt(n))\n",
        "\n",
        "print(f\"Media muestral: {media:.2f}\")\n",
        "print(f\"Intervalo de confianza (95%): [{media - error:.2f}, {media + error:.2f}]\")"
      ],
      "execution_count": 4,
      "outputs": [
        {
          "output_type": "stream",
          "name": "stdout",
          "text": [
            "Media muestral: 78.87\n",
            "Intervalo de confianza (95%): [76.63, 81.10]\n"
          ]
        }
      ]
    },
    {
      "cell_type": "markdown",
      "metadata": {
        "id": "e92a2840"
      },
      "source": [
        "## 📘 Explicación e Interpretación\n",
        "\n",
        "- Calculamos la **media muestral**, la **desviación estándar** y el **intervalo de confianza**.\n",
        "- El intervalo indica el rango en el que probablemente se encuentra la media real poblacional.\n",
        "\n",
        "**Ejemplo:**\n",
        "Si la media muestral es 80.5 y el intervalo de confianza es [79.1, 81.9],\n",
        "podemos decir con un 95% de confianza que el promedio real del puntaje poblacional está dentro de ese rango."
      ]
    },
    {
      "cell_type": "markdown",
      "metadata": {
        "id": "86cdcc33"
      },
      "source": [
        "---\n",
        "\n",
        "## 🧪 **3️⃣ Prueba de Hipótesis**\n",
        "\n",
        "Queremos comprobar si el puntaje promedio poblacional es igual a 80."
      ]
    },
    {
      "cell_type": "code",
      "metadata": {
        "colab": {
          "base_uri": "https://localhost:8080/"
        },
        "id": "6322c81d",
        "outputId": "e31aadd2-b518-464f-ff2c-80721e3fdd30"
      },
      "source": [
        "t_stat, p_value = stats.ttest_1samp(puntaje_examen, 80)\n",
        "print(f\"T-statistic: {t_stat:.3f}\")\n",
        "print(f\"P-value: {p_value:.3f}\")\n",
        "\n",
        "if p_value < 0.05:\n",
        "    print(\"❌ Se rechaza H₀: la media no es 80.\")\n",
        "else:\n",
        "    print(\"✅ No se rechaza H₀: la media podría ser 80.\")"
      ],
      "execution_count": 5,
      "outputs": [
        {
          "output_type": "stream",
          "name": "stdout",
          "text": [
            "T-statistic: -1.006\n",
            "P-value: 0.317\n",
            "✅ No se rechaza H₀: la media podría ser 80.\n"
          ]
        }
      ]
    },
    {
      "cell_type": "markdown",
      "metadata": {
        "id": "53f73040"
      },
      "source": [
        "## 📘 Explicación e Interpretación\n",
        "\n",
        "- **H₀ (hipótesis nula):** el promedio poblacional = 80\n",
        "- **H₁ (alternativa):** el promedio es diferente de 80\n",
        "- Si el **p-valor < 0.05**, se rechaza H₀.\n",
        "\n",
        "**Ejemplo:**\n",
        "Si el p-value = 0.12 → no hay evidencia suficiente para decir que la media es diferente de 80.\n",
        "Por lo tanto, **se mantiene la hipótesis de que la media poblacional es 80.**"
      ]
    },
    {
      "cell_type": "markdown",
      "metadata": {
        "id": "afc17b4d"
      },
      "source": [
        "---\n",
        "\n",
        "## 🔗 **4️⃣ Correlación y Covarianza**\n",
        "\n",
        "Analizamos si aumentar las horas de estudio está relacionado con mejorar los puntajes."
      ]
    },
    {
      "cell_type": "code",
      "metadata": {
        "colab": {
          "base_uri": "https://localhost:8080/"
        },
        "id": "e4da14da",
        "outputId": "2412e27e-4565-441a-dbfc-f864c9f2e6d7"
      },
      "source": [
        "correlacion = df.corr()\n",
        "covarianza = np.cov(df['Horas_de_estudio'], df['Puntaje_en_examen'])\n",
        "\n",
        "print(\"📈 Matriz de correlación:\\n\", correlacion, \"\\n\")\n",
        "print(\"📊 Matriz de covarianza:\\n\", covarianza)"
      ],
      "execution_count": 6,
      "outputs": [
        {
          "output_type": "stream",
          "name": "stdout",
          "text": [
            "📈 Matriz de correlación:\n",
            "                    Horas_de_estudio  Puntaje_en_examen  Perfect_Puntaje\n",
            "Horas_de_estudio           1.000000           0.908157         1.000000\n",
            "Puntaje_en_examen          0.908157           1.000000         0.908157\n",
            "Perfect_Puntaje            1.000000           0.908157         1.000000 \n",
            "\n",
            "📊 Matriz de covarianza:\n",
            " [[  7.42292904  27.91940328]\n",
            " [ 27.91940328 127.32547397]]\n"
          ]
        }
      ]
    },
    {
      "cell_type": "markdown",
      "metadata": {
        "id": "3b11fab1"
      },
      "source": [
        "## 📘 Explicación e Interpretación\n",
        "\n",
        "- La **correlación de Pearson** mide la fuerza y dirección de la relación (de -1 a 1).\n",
        "- La **covarianza** indica si las variables cambian juntas, pero depende de las unidades.\n",
        "\n",
        "**Ejemplo:**\n",
        "Si la correlación es 0.85 → relación positiva fuerte: más horas de estudio → mayores puntajes.\n",
        "La covarianza positiva también confirma esta tendencia."
      ]
    },
    {
      "cell_type": "markdown",
      "metadata": {
        "id": "7aefe4bf"
      },
      "source": [
        "---\n",
        "\n",
        "## 📊 **5️⃣ Prueba de Normalidad (Shapiro-Wilk)**\n",
        "\n",
        "Verificamos si los datos siguen una distribución normal, requisito común en IA y estadística inferencial."
      ]
    },
    {
      "cell_type": "code",
      "metadata": {
        "colab": {
          "base_uri": "https://localhost:8080/"
        },
        "id": "ed4f0f82",
        "outputId": "b3cccb53-9d60-429e-d670-dafeb223832b"
      },
      "source": [
        "shap_horas = stats.shapiro(df['Horas_de_estudio'])\n",
        "shap_puntaje = stats.shapiro(df['Puntaje_en_examen'])\n",
        "\n",
        "print(f\"P-valor Horas: {shap_horas.pvalue:.3f}\")\n",
        "print(f\"P-valor Puntaje: {shap_puntaje.pvalue:.3f}\")"
      ],
      "execution_count": 7,
      "outputs": [
        {
          "output_type": "stream",
          "name": "stdout",
          "text": [
            "P-valor Horas: 0.655\n",
            "P-valor Puntaje: 0.805\n"
          ]
        }
      ]
    },
    {
      "cell_type": "markdown",
      "metadata": {
        "id": "187e94b6"
      },
      "source": [
        "## 📘 Explicación e Interpretación\n",
        "\n",
        "- **H₀:** los datos provienen de una distribución normal.\n",
        "- Si **p < 0.05**, los datos **no son normales**.\n",
        "\n",
        "**Ejemplo:**\n",
        "Si p = 0.20 → no se rechaza H₀ → los datos pueden considerarse normales.\n",
        "Esto permite aplicar métodos inferenciales como la **t de Student** o la **regresión lineal.**"
      ]
    },
    {
      "cell_type": "markdown",
      "metadata": {
        "id": "360bd4f9"
      },
      "source": [
        "---\n",
        "\n",
        "## 📉 **6️⃣ Regresión Lineal**\n",
        "\n",
        "Construimos un modelo predictivo que relacione las horas de estudio con el puntaje en el examen."
      ]
    },
    {
      "cell_type": "code",
      "metadata": {
        "colab": {
          "base_uri": "https://localhost:8080/"
        },
        "id": "1bc6eed5",
        "outputId": "19ba17b3-0cff-4703-f2f6-2fc95b0ad31f"
      },
      "source": [
        "X = df[['Horas_de_estudio']]\n",
        "y = df['Puntaje_en_examen']\n",
        "\n",
        "modelo = LinearRegression().fit(X, y)\n",
        "pendiente = modelo.coef_[0]\n",
        "intercepto = modelo.intercept_\n",
        "\n",
        "print(f\"Modelo: Puntaje = {intercepto:.2f} + {pendiente:.2f} * Horas_de_estudio\")\n",
        "\n",
        "df['Prediccion'] = modelo.predict(X)\n",
        "df['Residuo'] = df['Puntaje_en_examen'] - df['Prediccion']\n",
        "\n",
        "rmsd = math.sqrt(np.mean(df['Residuo']**2))\n",
        "print(f\"RMSD: {rmsd:.3f}\")"
      ],
      "execution_count": 8,
      "outputs": [
        {
          "output_type": "stream",
          "name": "stdout",
          "text": [
            "Modelo: Puntaje = 42.42 + 3.76 * Horas_de_estudio\n",
            "RMSD: 4.700\n"
          ]
        }
      ]
    },
    {
      "cell_type": "markdown",
      "metadata": {
        "id": "49117f1f"
      },
      "source": [
        "---\n",
        "\n",
        "## 🎨 **7️⃣ Visualización del modelo**\n",
        "\n",
        "Graficamos los datos reales junto a la línea de regresión para visualizar el ajuste del modelo."
      ]
    },
    {
      "cell_type": "code",
      "metadata": {
        "colab": {
          "base_uri": "https://localhost:8080/",
          "height": 565
        },
        "id": "30948241",
        "outputId": "25421a42-a979-43ab-d330-1ef82de96edd"
      },
      "source": [
        "plt.figure(figsize=(8,6))\n",
        "plt.scatter(df['Horas_de_estudio'], df['Puntaje_en_examen'], color='skyblue', label='Datos reales')\n",
        "plt.plot(df['Horas_de_estudio'], df['Prediccion'], color='red', label='Regresión lineal')\n",
        "plt.xlabel('Horas de estudio semanales')\n",
        "plt.ylabel('Puntaje en el examen')\n",
        "plt.title(f'Regresión lineal (RMSD = {rmsd:.2f})')\n",
        "plt.legend()\n",
        "plt.grid(True)\n",
        "plt.show()"
      ],
      "execution_count": 9,
      "outputs": [
        {
          "output_type": "display_data",
          "data": {
            "text/plain": [
              "<Figure size 800x600 with 1 Axes>"
            ],
            "image/png": "[encoded data removed]"
          },
          "metadata": {}
        }
      ]
    },
    {
      "cell_type": "markdown",
      "metadata": {
        "id": "ef420428"
      },
      "source": [
        "---\n",
        "\n",
        "# 🧾 Conclusión\n",
        "\n",
        "- La **estadística inferencial** permitió estimar y verificar propiedades poblacionales (media, intervalos e hipótesis).\n",
        "- Las **pruebas estadísticas** mostraron cómo validar supuestos de normalidad y relación entre variables.\n",
        "- La **regresión lineal** sirvió como puente hacia el modelado predictivo, base de la **Inteligencia Artificial**.\n",
        "\n",
        "Este ejercicio demuestra cómo la inferencia estadística se integra al **aprendizaje automático** para comprender patrones y tomar decisiones basadas en datos."
      ]
    }
  ],
  "metadata": {
    "colab": {
      "provenance": []
    },
    "kernelspec": {
      "display_name": "Python 3",
      "name": "python3"
    }
  },
  "nbformat": 4,
  "nbformat_minor": 0
}
